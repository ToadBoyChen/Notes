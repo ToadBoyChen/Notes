{
 "cells": [
  {
   "cell_type": "markdown",
   "metadata": {},
   "source": [
    "## follow these steps:\n",
    "\n",
    "1. Identify what the prompt is asking for and what the user needs in the response. Specifically:\n",
    "    1. What did the user explicitly ask for?\n",
    "    1. What does the response definitely need to be great and is implicitly requested by the user?\n",
    "    1. What could make the response go above and beyond, add depth, and not add extra verbosity?\n",
    "1. Evaluate what criteria from the above the model response needs to comply with\n",
    "    1. Are there things the user explicitly asked for that are not there?\n",
    "    1. Identify if implicit requests are met\n",
    "    1. Identify if depth and response richness can be added\n",
    "1. Evaluate where the response needs further improvement!\n",
    "    1. Start with Harmlessness: Is there any harmful content (e.g. hate speech, bullying, harassment, sexually explicit content), promotion of violence, endorsement of unethical activities or claims that are biased or have stereotyping quality?\n",
    "        1. Harmful content: Remove\n",
    "    1. Next check for Truthfulness. Identify all the claims made in the response and research those claims to determine if they are factually accurate, the response must be telling the truth.\n",
    "    1. Make sure all the instructions in the prompt are addressed. Also, are the constraints mentioned in the prompt adhered to?\n",
    "        1. Incomplete instruction-following: Add to the response so it follows ALL instructions in the prompt.\n",
    "    1. Determine if any necessary supporting content to adequately address the prompt is missing or there is irrelevant content.\n",
    "        1. Missing / Unnecessary content: Add helpful supporting content and remove irrelevant content.\n",
    "    1. Double check grammar and formatting:\n",
    "        1. Use Grammarly"
   ]
  },
  {
   "cell_type": "markdown",
   "metadata": {},
   "source": [
    "## Tips for writing \n",
    "\n",
    "For question-and-answer type and list-type prompts, a structure to help with balancing concision and verbosity is ADD:\n",
    "1. Answer questions directly and concisely without repeating the user's prompt.\n",
    "1. Detail the answer through an example - add one piece of rich information.\n",
    "1. Describe the value of your answer to the asker - depending on the prompt, this may or may not be necessary. For this, consider if there are any implicit requests in the prompt (e.g., are they looking for help researching information for homework or seeking advice about chatting with a friend).\n",
    "\n",
    "As grade schoolers, many folks are likely familiar with the five-paragraph essay structure\n",
    "1. ntroduction paragraph with a hook with thesis\n",
    "1. Body paragraphs 1-3, each with a topic sentence and supporting claims\n",
    "1. Closing paragraph that repeats the thesis and leaves with a conclusion\n",
    "\n",
    "Another grade school throwback for creative writing is Freytag's Pyramid (you might not know that's what it is called, but you've likely heard of the elements):\n",
    "1. Exposition\n",
    "1. Inciting/Initial Incident\n",
    "1. Rising Action\n",
    "1. Climax\n",
    "1. Falling Action\n",
    "1. Resolution/Dénouement/Catastrophe\n",
    "\n",
    "Job seekers might be familiar with STAR for interviews or cover letters: \n",
    "1. Situation: Set the scene and give the necessary details of your example.\n",
    "1. Task: Describe what your responsibility was in that situation.\n",
    "1. Action: Explain exactly what steps you took to address it.\n",
    "1. Result: Share what outcomes your actions achieved.\n",
    "\n",
    "Individuals pitching or selling an idea or product might use PSB:\n",
    "1. Problem/Opportunity\n",
    "1. Solution\n",
    "1. Benefit\n",
    "\n",
    "Many speeches can be formatted with the three Whats:\n",
    "1. What?\n",
    "1. So what? (why it's important)\n",
    "1. Now what? (next steps)"
   ]
  }
 ],
 "metadata": {
  "language_info": {
   "name": "python"
  }
 },
 "nbformat": 4,
 "nbformat_minor": 2
}
