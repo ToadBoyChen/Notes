{
 "cells": [
  {
   "cell_type": "markdown",
   "metadata": {},
   "source": [
    "# Gummies Application Draft\n",
    "\n",
    "## Question One\n",
    "\n",
    "The National Cyber Security Centre (NCSC) plays a fundamental role in supporting organisations and Government to keep the UK safe. Can you tell us what cybersecurity challenges you think organisations across the UK face both now and in the future?.\n",
    "\n",
    "1. Is there anything you have read recently in the news?\n",
    "1. How might technology influence future threats?\n",
    "1. Why do you think these will be challenges for the UK?\n",
    "1. Who else might be involved in these threats?\n",
    "\n",
    "### Answer\n",
    "\n",
    "One issue is quantum computation. It has been stated that when quantum computers can hold enough qubits stably, cryptanalyst may use methods like Shor's algorithm for its integer factorization to break encryption methods (UNNSW Sydney, 2024). Adversaries steal data to later decrypt data when QMs are up to standard (Cryptomathic, 2023). In part, quantum safe algorithms have already been dealt with by organisations like NIST, but there is concern for the data already stolen. One may argue that the issue of quantum computation has shifted towards a more governmental sphere. Governance efforts should be made and there should be methods in which to mitigate damage to come, if/ when such computers exist. The risks in direct relation to the British government and society are the leaking or usage of sensitive documents. IRPs should be developed to protect the UKs data.  \n",
    "\n",
    "As shown from the Arups incident, another concern is AI (NCSC, 2024). With large arrays of data available, one can make an AI for anything. Though AI will strengthen security systems, AI also possesses a large threat due to the social engineering capabilities and effective hacking skills. With research only intensifying, powerful GPUs being produced, a digitalised life and AI being easy to use, AIs are a viable option for hackers, causing an increase in hacks (Sangfor, 2024). The UK needs to consider the safety of digital systems against specialised AI, especially from bad actors who have access to substantial amounts of high-quality data, such as other states. \n",
    "\n",
    "## Question Two\n",
    "\n",
    "We want to understand what really interests you. Please tell us about something that you are passionate about and how you have expanded your knowledge in this area.\n",
    "\n",
    "1. Why does this topic interest you so much?\n",
    "1. How did you learn more about your passion?\n",
    "1. What different resources did you use?\n",
    "1. How do you apply this knowledge in your life?\n",
    "\n",
    "### Answer\n",
    "\n",
    "I am interested in pure mathematics. The axiomatic nature of maths makes it an engaging subject where I enjoy topics like number theory, due to its relation to cryptography. I was first introduced to [proper] mathematics through my foundation year, where I learnt about the field and ongoing research. I came to love the subject through conversations with lecturers and would hope to contribute to the field myself, maybe through the idea of zero knowledge proofs, or strengthening cryptographic systems.\n",
    "\n",
    "My best education comes from lecturers, though topics I have become most interested in, and what introduced me to mathematics at first, were through resources like google scholar, youtube and New scientist, where I was first introduced to the idea of Quantum hacking. Through this unconventional means I have been able to specialise in topics that are more mathematically pure and pique my curiosity more frequently.\n",
    "\n",
    "I have found genuinely helpful skills through logic and reason, which are strengthened through mathematics. Simply understanding the importance of implication arrows has greatly increased my capacity for daily thought and problem solving. Mathematics has taught me to approach problems with discipline and rigour; To boil down/ abstract the issue to its core and build from there. This way of thinking has worked in my favour, and saved time. An example of this simple problem solving technique is when I am trying to solve a bug bounty and am struggling to know where to start.\n",
    "\n",
    "## Question Three\n",
    "\n",
    "Cyber Security is constantly changing and it's important that knowledge is shared in the profession to support growth and innovation. Please tell us about a time where you have shared your knowledge, why you shared it and what your approach was.\n",
    "\n",
    "1. Who did you share the knowledge with?\n",
    "1. How did you go about sharing information?\n",
    "1. Why was it important to share your knowledge?\n",
    "1. How did you know the other person understood?\n",
    "\n",
    "### Answer\n",
    "\n",
    "An old friend, of whom I had lost contact with was posting violent actions and weapons on their social media platform. The weapons of concern were explicitly illegal, served no good purpose and my friend was unstable. I felt inclined to submit an anonymous police report detailing the issue at hand. I had known my friends potential affiliations and knew them for a long time. I saw that the actions they were taking had real intent to hurt or kill. "
   ]
  }
 ],
 "metadata": {
  "kernelspec": {
   "display_name": "Python 3",
   "language": "python",
   "name": "python3"
  },
  "language_info": {
   "codemirror_mode": {
    "name": "ipython",
    "version": 3
   },
   "file_extension": ".py",
   "mimetype": "text/x-python",
   "name": "python",
   "nbconvert_exporter": "python",
   "pygments_lexer": "ipython3",
   "version": "3.12.5"
  }
 },
 "nbformat": 4,
 "nbformat_minor": 2
}
