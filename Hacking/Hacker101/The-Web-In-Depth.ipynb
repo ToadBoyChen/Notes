{
 "cells": [
  {
   "cell_type": "markdown",
   "metadata": {},
   "source": [
    "# The Web in Depth\n",
    "\n",
    "## Requests\n",
    "\n",
    "Basic structure is:\n",
    "\n",
    "```cmd\n",
    "VERB /resource/locator HTTP/1.1\n",
    "Header1: Value1\n",
    "Header2: Value2\n",
    "\n",
    "<Body of request>\n",
    "```\n",
    "\n",
    "### Types of Request Headers\n",
    "\n",
    "1. `Host`: Indicates the desired host handling request.\n",
    "1. `Accept`: Indicates what MIME type(s) are accepted by the client; often used to specify __JSON__ or __XML__ outputs for web services.\n",
    "1. `Cookie`: Passes cookie data to the server.\n",
    "1. `Referrer`: Page leading to this request.\n",
    "1. `Authorization`: Used for basic auth pages. Takes the form `Basic <base64'd username:password>`.\n",
    "    - If basic auth is used, we can very easily decode base64 to find the username and password.\n",
    "\n",
    "### Cookies\n",
    "\n",
    "Cookies are key value pairs of data that are sent from the server and reside on the client for a fixed period of time. Each cookies matches the domain. \n",
    "\n",
    "To keep cookies secure, a cookie added to a website can be read by all subdomains but if its added to a subdomain it cannot be read by its parents, nor can a cookie be set for sibling domains. \n",
    "\n",
    "There are also two types of important cookies, `HTTPS` and `HTTPO`, where respectively it can only accessed by the `secure` flag, and cannot read javascript. "
   ]
  }
 ],
 "metadata": {
  "language_info": {
   "name": "python"
  }
 },
 "nbformat": 4,
 "nbformat_minor": 2
}
