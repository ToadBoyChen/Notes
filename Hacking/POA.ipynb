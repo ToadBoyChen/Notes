{
 "cells": [
  {
   "cell_type": "markdown",
   "metadata": {},
   "source": [
    "# Plan of Action\n",
    "\n",
    "## Understand Scope and Mission\n",
    "\n",
    "## Find Relevant Information\n",
    "\n",
    "## Act on Information\n",
    "\n",
    "## Write a Report\n",
    "\n",
    "## Peer Check Report"
   ]
  }
 ],
 "metadata": {
  "language_info": {
   "name": "python"
  }
 },
 "nbformat": 4,
 "nbformat_minor": 2
}
