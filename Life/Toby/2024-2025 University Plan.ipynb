{
 "cells": [
  {
   "cell_type": "markdown",
   "metadata": {},
   "source": [
    "# 2024 - 2025 University Planner"
   ]
  },
  {
   "cell_type": "markdown",
   "metadata": {},
   "source": [
    "## Budget Plan\n",
    "\n",
    "#### Yearly\n",
    "\n",
    "£50 from Dad per month.\n",
    "\n",
    "£25 -> Gym\n",
    "\n",
    "£25 -> Cleaning Products + Toiletries (laundry, shower gel, toilet roll, etc)\n",
    "\n",
    "£10 from Mum per month.\n",
    "\n",
    "£10 -> Phone\n",
    "\n",
    "### Semester One\n",
    "\n",
    "Number of weeks: 15\n",
    "\n",
    "Total rent: £3040, Total in: £4382,\n",
    "\n",
    "> Total left over for semester: £1342\n",
    "\n",
    "> Total pw: £85\n",
    "\n",
    "£30 -> Food\n",
    "\n",
    "£30 -> Travel\n",
    "\n",
    "\n",
    "\n",
    "### Semester Two\n",
    "\n",
    "Number of weeks: 17\n",
    "\n",
    "Total rent: £2280, Total in: £4382,\n",
    "\n",
    "> Total left over for semester: £2102\n",
    "\n",
    "> Total pw: £115\n",
    "\n",
    "### Semester Three\n",
    "\n",
    "Number of weeks: 7\n",
    "\n",
    "Total rent: £2090, Total in: £4515,\n",
    "\n",
    "> Total left over for semester: £2425\n",
    "\n",
    "/> Total pw: £346, some must be saved for deposit"
   ]
  },
  {
   "cell_type": "code",
   "execution_count": 13,
   "metadata": {},
   "outputs": [
    {
     "name": "stdout",
     "output_type": "stream",
     "text": [
      "91.25\n",
      "\n",
      "Money left over pw if  35  for food and  35  for travel is  21.25\n"
     ]
    }
   ],
   "source": [
    "macbook = 0\n",
    "\n",
    "money = 1020\n",
    "\n",
    "work = 75\n",
    "\n",
    "weeks = 12\n",
    "\n",
    "pw = (money + work - macbook)/weeks\n",
    "\n",
    "print(pw)\n",
    "print()\n",
    "\n",
    "\n",
    "Food_pw = 35\n",
    "\n",
    "Travel_pw = 35\n",
    "\n",
    "Spending_pw = Food_pw + Travel_pw\n",
    "\n",
    "leftover = pw - Spending_pw\n",
    "\n",
    "print(\"Money left over pw if \", Food_pw, \" for food and \", Travel_pw, \" for travel is \", leftover)"
   ]
  }
 ],
 "metadata": {
  "kernelspec": {
   "display_name": "Python 3",
   "language": "python",
   "name": "python3"
  },
  "language_info": {
   "codemirror_mode": {
    "name": "ipython",
    "version": 3
   },
   "file_extension": ".py",
   "mimetype": "text/x-python",
   "name": "python",
   "nbconvert_exporter": "python",
   "pygments_lexer": "ipython3",
   "version": "3.12.5"
  }
 },
 "nbformat": 4,
 "nbformat_minor": 2
}
