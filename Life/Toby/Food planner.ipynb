{
 "cells": [
  {
   "cell_type": "markdown",
   "metadata": {},
   "source": [
    "# Food planner\n",
    "\n",
    "## Breakfast\n",
    "\n",
    "Eggs and Toast and Avocado (?)\n",
    "\n",
    "Porridge\n",
    "\n",
    "## Lunch\n",
    "\n",
    "Pesto Pasta with salad\n",
    "\n",
    "Potato and Chilli with salad\n",
    "\n",
    "### Salad\n",
    "\n",
    "Carrot, Pepper, Cucumber, Red cabbage\n",
    "\n",
    "## Dinner\n",
    "\n",
    "Potato and Chilli and salad\n",
    "\n",
    "pork belly and rice and salad\n",
    "\n",
    "chicken and rice and salad\n",
    "\n",
    "bolognese and salad\n",
    "\n",
    "potato and beans and cheese and bacon and salad\n",
    "\n",
    "## Snacks\n",
    "\n",
    "nuts\n",
    "\n"
   ]
  }
 ],
 "metadata": {
  "language_info": {
   "name": "python"
  }
 },
 "nbformat": 4,
 "nbformat_minor": 2
}
