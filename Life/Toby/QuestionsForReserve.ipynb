{
 "cells": [
  {
   "cell_type": "markdown",
   "metadata": {},
   "source": [
    "# Questions to Ask\n",
    "\n",
    "1. Do i have control over how/ when i am deployed\n",
    "1. Will i get deployed?"
   ]
  }
 ],
 "metadata": {
  "language_info": {
   "name": "python"
  }
 },
 "nbformat": 4,
 "nbformat_minor": 2
}
