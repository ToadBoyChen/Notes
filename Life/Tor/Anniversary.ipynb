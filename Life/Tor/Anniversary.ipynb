{
 "cells": [
  {
   "cell_type": "markdown",
   "metadata": {},
   "source": [
    "# 1st Anniversary\n",
    "\n",
    "Time: 08/10/24\n",
    "\n",
    "> Begin in the morning.\n",
    "\n",
    "Where: London or Leeds (?)\n",
    "\n",
    "> Preference is London.\n",
    "\n",
    "Events:\n",
    "\n",
    "1. [Golf](https://yourgolfbooking.com/venues/greenwich-peninsula/booking/bays) (?)\n",
    "1. [Kew gardens](https://www.kew.org/) (?)\n",
    "1. \n",
    "\n",
    "Food: [Skygarden](https://skygarden.london/restaurants/fenchurch/) - approx £70 each (?)"
   ]
  }
 ],
 "metadata": {
  "language_info": {
   "name": "python"
  }
 },
 "nbformat": 4,
 "nbformat_minor": 2
}
