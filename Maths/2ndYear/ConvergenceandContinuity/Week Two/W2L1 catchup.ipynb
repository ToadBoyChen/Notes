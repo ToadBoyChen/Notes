{
 "cells": [
  {
   "cell_type": "markdown",
   "metadata": {},
   "source": [
    "# Week Two Lecture One Catchup\n",
    "\n",
    "## Demon Games\n",
    "\n",
    "Many though experiments in mathematics and physics involve demons, for some reason. This is the demon game. The rules are,\n",
    "\n",
    "1. Read a statement left to right,\n",
    "1. Whenever we see the forall symbol, $\\forall$, the demon gets to choose. If there are restrictions, __the demon must obey__. \n",
    "1. Whenever there is a exists symbol, $\\exists$, we get to choose. If there are restrictions, __we must obey__.\n",
    "1. If the last statement is __true__, the __demon wins__, otherwise we win. \n",
    "\n",
    "\n",
    "Take the following specific game,\n",
    "\n",
    "### Game One\n",
    "\n",
    "The demon picks $n \\in \\N$, then we also pick an $m \\in \\N : m > n$ to win. You can clearly observe that we may choose to always win. \n",
    "\n",
    "### Game Two\n",
    "\n",
    "the demon picks $x \\in \\R$ and picks $\\epsilon \\in \\R : \\epsilon > 0$. Then we pick $\\delta \\in \\R : \\delta > 0$. Then the demon once again picks $y \\in \\R : |x - y| < \\delta$. We therefore win if $|x^2 - y^2| < \\epsilon$. \n",
    "\n",
    "## Real Numbers\n",
    "\n",
    "In order to understand the real numbers let us work into it. Recall that,\n",
    "\n",
    "$$\\begin{align*}\n",
    "\\N &= \\{1,2,3,4,\\dots\\},\\\\\n",
    "\\N_0 &= \\{0,1,2,3,\\dots\\},\\\\\n",
    "\\Z &= \\{\\dots,-1,0,1,\\dots\\},\\\\\n",
    "\\mathbb{Q} &= \\left\\{\\frac{p}{q} : p,q\\in\\Z, q \\neq 0\\right\\}.\n",
    "\\end{align*}$$\n",
    "\n",
    "One should note that $\\R$ contain all the sets prior, and all the prior sets contain their the prior sets of them. One should also note that all the sets are closed under addition and multiplication. only $\\Z$ and $\\mathbb{Q}$ is closed under subtraction and only $\\mathbb{Q}$ is closed under division. Therefore $\\R$ posses all the same qualities, and something unique.\n",
    "\n",
    "Lastly, $\\mathbb{Q}$ is a field, meaning that there is both an additive and multiplicative neutral, and a additive and multiplicative inverse.\n",
    "\n",
    "#### Intervals\n",
    "\n",
    "We define intervals as such,\n",
    "\n",
    "$$\\begin{align*}\n",
    "[a, b] &:= \\{x \\in \\R : a \\leq x \\leq b\\},\\\\\n",
    "(a, b) &:= \\{ x\\in \\R : a < x , b\\},\\\\\n",
    "(a, b] &:= \\{x\\in\\R:a<x\\leq b\\},\\\\\n",
    "[a, b) &:= \\{x\\in\\R:a\\leq x < b\\}.\n",
    "\\end{align*}$$\n",
    "\n",
    "#### Maximum and Minimum \n",
    "\n",
    "Suppose $A \\subseteq \\R$. Then $x\\in A$ is known as the maximum $\\iff x\\in A, ~ \\forall y\\in A: x \\geq y$, and $x$ is the minimum if $x \\in A, ~ \\forall y \\in A : x \\leq y$. One should note that the maximum of a set in unique. "
   ]
  }
 ],
 "metadata": {
  "language_info": {
   "name": "python"
  }
 },
 "nbformat": 4,
 "nbformat_minor": 2
}
