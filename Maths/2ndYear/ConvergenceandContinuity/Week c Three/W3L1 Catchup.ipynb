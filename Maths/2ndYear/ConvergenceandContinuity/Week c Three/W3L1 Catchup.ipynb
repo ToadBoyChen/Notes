{
 "cells": [
  {
   "cell_type": "markdown",
   "metadata": {},
   "source": [
    "# Week Three Catchup \n",
    "\n",
    "## Sequences\n",
    "\n",
    "A sequence of real numbers is any infinite list of real numbers. This maybe $1,2,3,4,\\dots$, or $1, 4, 9,16,\\dots$ or even $1,1,1,1,\\dots$. One should note that though the sequences we are concerned with have a rule, they not need one.\n",
    "\n",
    "We denote a sequence by $(x_n)_{n = 1}^\\infty$ to denote the sequence $x-1, x_2, x_3, \\dots, x_n$, \\dots. We can therefore write expressions like $(n)_{n = 1}^\\infty$ or $(1)_{n = 1}^\\infty$ and finally $(x^2)_{n = 1}^\\infty$.\n",
    "\n",
    "A sequence is a __function__ which $S: \\N \\rightarrow \\R$ by $(x_n)_{n = 1}^{\\infty} : n \\mapsto x_n$. We iterate $n$ by $1$ and usually start on $n = 1$.\n",
    "\n",
    "### Convergence to Zeros\n",
    "#### Definition of a Convergence to Zero\n",
    "A sequence $(x_n)_{n = 1}^{\\infty}$ converges to $0$, given by $x_n \\rightarrow 0 : n \\rightarrow \\infty$ or $\\lim_{n \\rightarrow \\infty} x_n = 0$ if $\\forall \\epsilon > 0 \\exists N \\in \\N : \\forall n \\in \\N, n > N : |x_n| < \\epsilon$.\n",
    "\n",
    "One should _remark_ that $\\epsilon \\in \\R$ is always the case, and $N, n \\in \\N$ is also always the case. \n",
    "\n",
    "We say that the sequence $(x_n)_{n = 1}^{\\infty}$ converges to $\\ell \\in \\R$ if the sequence defined by $y_n = x_n - \\ell$ converges to $0$. \n",
    "\n",
    "This means that statements about convergence to other limits that zero can be converted into statements about convergence to zero."
   ]
  }
 ],
 "metadata": {
  "language_info": {
   "name": "python"
  }
 },
 "nbformat": 4,
 "nbformat_minor": 2
}
