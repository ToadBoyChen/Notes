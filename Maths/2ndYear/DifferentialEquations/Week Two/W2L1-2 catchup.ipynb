{
 "cells": [
  {
   "cell_type": "markdown",
   "metadata": {},
   "source": [
    "# Week Two Catchup\n",
    "\n",
    "Consider the ODE, $$y' = F\\left(\\frac{y}{x}\\right).$$\n",
    "\n",
    "If we were to scale this ODE, say by a constant $x \\rightarrow kx$ and $y \\rightarrow ky$, then the ODE does not actually change, given that $k \\neq 0$. This is known as a __scale invariant first order ordinary differential equation__. \n",
    "\n",
    "To solve a _SIF-O-ODE_, we introduce a new equation $z(x) = \\frac{y(x)}{x} \\iff y(x) = xz(x)$. If we differentiate this function, we get $y'(x) = z(x) + xz'(x)$, by the product rule. This implies that we have $F(z) = z + xz'$, or equivalently $$z' = \\frac{F(z) - z}{x}.$$\n",
    "\n",
    "This is now indeed separable. \n",
    "\n",
    "_Example_ $xy' = y - xe^{\\frac{y}{x}}$.\n",
    "\n",
    "$$\\begin{align*}\n",
    "xy' &= y - xe^{\\frac{y}{x}} \\iff y' = \\frac{y}{x} - e^{\\frac{y}{x}},\\\\\n",
    "\\text{Let }z &= \\frac{y}{x} : y' = \\frac{d}{dx}(xz) \\equiv \\frac{y}{x} - e^{\\frac{y}{x}},\\\\\n",
    "\\implies y' &= z + xz' \\equiv \\frac{y}{x} - e^{\\frac{y}{x}},\\\\\n",
    "\\implies z + xz' &= \\frac{y}{x} - e^{\\frac{y}{x}},\\\\\n",
    "\\implies z' &= -\\frac{e^z}{x}.\n",
    "\\end{align*}$$"
   ]
  }
 ],
 "metadata": {
  "language_info": {
   "name": "python"
  }
 },
 "nbformat": 4,
 "nbformat_minor": 2
}
