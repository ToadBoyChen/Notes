{
 "cells": [
  {
   "cell_type": "markdown",
   "metadata": {},
   "source": [
    "# Week Two Catchup\n",
    "\n",
    "Consider the ODE, $$y' = F\\left(\\frac{y}{x}\\right).$$\n",
    "\n",
    "If we were to scale this ODE, say by a constant $x \\rightarrow kx$ and $y \\rightarrow ky$, then the ODE does not actually change, given that $k \\neq 0$. This is known as a __scale invariant first order ordinary differential equation__. \n",
    "\n",
    "To solve a _SIF-O-ODE_, we introduce a new equation $z(x) = \\frac{y(x)}{x} \\iff y(x) = xz(x)$. If we differentiate this function, we get $y'(x) = z(x) + xz'(x)$, by the product rule. This implies that we have $F(z) = z + xz'$, or equivalently $$z' = \\frac{F(z) - z}{x}.$$\n",
    "\n",
    "This is now indeed separable. \n",
    "\n",
    "_Example_ $xy' = y - xe^{\\frac{y}{x}}$.\n",
    "\n",
    "$$\\begin{align*}\n",
    "xy' &= y - xe^{\\frac{y}{x}} \\iff y' = \\frac{y}{x} - e^{\\frac{y}{x}},\\\\\n",
    "\\text{Let }z &= \\frac{y}{x} : y' = \\frac{d}{dx}(xz) \\equiv \\frac{y}{x} - e^{\\frac{y}{x}},\\\\\n",
    "\\implies y' &= z + xz' \\equiv \\frac{y}{x} - e^{\\frac{y}{x}},\\\\\n",
    "\\implies z + xz' &= \\frac{y}{x} - e^{\\frac{y}{x}},\\\\\n",
    "\\implies z' &= -\\frac{e^z}{x}.\n",
    "\\end{align*}$$\n",
    "\n",
    "## First Order Linear ODEs\n",
    "This class of equation takes form $y' = A(x)y + B(x)$. If $B(x) = 0$, the equation is __homogeneous__, and otherwise __inhomogeneous__.\n",
    "\n",
    "The general solution is found via $y = De^{\\int A(x) ~ dx}, D \\in \\R$. \n",
    "\n",
    "Exact ODEs take form $P(x, y) + Q(x, y) \\frac{dy}{dx} = 0$. "
   ]
  },
  {
   "cell_type": "code",
   "execution_count": 21,
   "metadata": {},
   "outputs": [
    {
     "name": "stdout",
     "output_type": "stream",
     "text": [
      "true\n"
     ]
    }
   ],
   "source": [
    "def func1(x, y):\n",
    "    return -3 * x - y - 14\n",
    "\n",
    "def func2(x, y):\n",
    "    return x + 2 * y + 3\n",
    "\n",
    "x = -5\n",
    "y = 1\n",
    "\n",
    "if func1(x, y) == func2(x, y) == 0:\n",
    "    print(\"true\")\n",
    "else:\n",
    "    print(\"false\")\n"
   ]
  },
  {
   "cell_type": "code",
   "execution_count": 25,
   "metadata": {},
   "outputs": [
    {
     "data": {
      "text/plain": [
       "10"
      ]
     },
     "execution_count": 25,
     "metadata": {},
     "output_type": "execute_result"
    }
   ],
   "source": [
    "34 - 2 * 12"
   ]
  }
 ],
 "metadata": {
  "kernelspec": {
   "display_name": "Python 3",
   "language": "python",
   "name": "python3"
  },
  "language_info": {
   "codemirror_mode": {
    "name": "ipython",
    "version": 3
   },
   "file_extension": ".py",
   "mimetype": "text/x-python",
   "name": "python",
   "nbconvert_exporter": "python",
   "pygments_lexer": "ipython3",
   "version": "3.12.6"
  }
 },
 "nbformat": 4,
 "nbformat_minor": 2
}
