{
 "cells": [
  {
   "cell_type": "markdown",
   "metadata": {},
   "source": [
    "# Week Two Lecture Two\n",
    "\n",
    "To revise:\n",
    "1. Axiomatic definition of a vector space.\n",
    "1. $\\R^{m\\times n}$, together with matrix addition - example of a vector space.\n",
    "1. $\\R^n = \\R^{n\\times 1}$ - column vectors of length $n$, known as the space of column vectors of length $n$. \n",
    "1. $p_n$ is the space of polynomials of degree up to $n$.\n",
    "    1. The general form of a polynomial is $p \\in p_n : p(t) = a_0 + a_1 t + a_2 t^2 + \\dots + a_{n - 1} t^{n}, a_0, a_1, a_2, \\dots, a_{n -1} \\in \\R$.\n",
    "\n",
    "\n",
    "Exotic example - $C[a, b]$ defined as the set of continuos real valued functions defined on the closed interval $[a, b] \\subseteq \\R : C[a, b] = \\{f : [a,b] \\rightarrow \\R | f \\text{ is continuos on }[a,b]\\}$.\n",
    "\n",
    "Addition and scalar multiplication is defined point wise, i.e., for $f, g \\in C[a,b ]$, the operation $(f + g)(x) \\mapsto f(x) + g(x)$. When we refer to $(f + g)(x)$, its defining addition in $C[a, b]$, whereas $f(a) + g(a)$ is defined in $\\R$. This holds for all $x$ in $[a, b]$. Given $\\alpha \\in \\R, f \\in C[a, b], (\\alpha f)(x) \\mapsto \\alpha(f(x)), \\forall x \\in [a, b]$.\n",
    "\n",
    "Now let us see if $C[a, b]$ with addition and multiplication is a vector space. We are given, through calculus, that the sum of continuous functions on $[a, b]$ is also continuous.\n",
    "\n",
    "### Theorem\n",
    "Let $V$ be a vector space and let $u$ and $v$ be vectors in $V$. Then:\n",
    "\n",
    "1. $0u = 0$,\n",
    "    * _Proof_: $0u = (0+0)u = 0u + 0u \\iff 0u = 0u + 0u$. Its obvious that $0 = 0u$.\n",
    "1. $\\alpha 0 = 0$,\n",
    "    * _Proof_:\n",
    "1. $u + v = 0 \\implies v = -u$ - the additive inverse is unique,\n",
    "    * _Proof_:\n",
    "1. $-u$ can be computed as $(u)(-1)$.\n",
    "    * _Proof_:\n",
    "\n",
    "\n",
    "## Subspaces\n",
    "Let $V$ be a vector space. Let $H \\subseteq V, H \\neq \\empty$. We say that $H$ is a subspace of $V$ if:\n",
    "1. $\\forall u, v \\in H, u + v \\in H$, $H$ is closed under addition,\n",
    "1. $\\forall \\alpha \\in \\R, u \\in H, \\alpha u \\in H$, $H$ is closed under scalar multiplication,\n",
    "1. $$\n",
    "\n",
    "### Theorem\n",
    "Let $H$ be a subspace of $V$. Under addition and scalar multiplication inherited from $V$, $H$ is indeed a vector space. \n",
    "\n",
    "It it much easier to show that some structure $H$ is a vector space by checking that it is a subspace of some superspace. We only need to check two closure properties rather than 10 axioms.\n",
    "\n",
    "__Example__: Let $V$ a vector space. $\\{\\bar{0}\\}$ is a subspace of $V$, and $V$ itself is a subspace of $V$. These are trivial subspaces. All other subspaces are known as __proper subspaces__. Let $H = \\{\\bar{0}\\}$ We need to verify closure under addition and closure under multiplication. If $u, v \\in H, v = \\bar{0}$ and $u = \\bar{0} \\implies u + v = \\bar{0} + \\bar{0} = \\bar{0} \\in H$. If $\\alpha \\in \\R, u \\in H : \\alpha u = \\alpha \\bar{0} = \\bar{0}.$ So $H$ is a subspace of $V$. \n",
    "\n",
    "$V$ is a subspace of $V$ since $V$$ satisfies the closure laws. \n",
    "\n",
    "__Example__: Let $L = \\left\\{\\begin{pmatrix}x \\\\ y \\\\ z\\end{pmatrix}\\in \\R^3 : x = y = z\\right\\}$, then $L$ is a subspace of $\\R^3$.\n",
    "\n",
    "> _Proof_: $L \\neq \\empty \\because \\begin{pmatrix}1 \\\\ 1 \\\\ 1\\end{pmatrix}$. Suppose $u, v \\in L$. $u + v = \\begin{pmatrix}a \\\\ a \\\\ a\\end{pmatrix} + \\begin{pmatrix}b \\\\ b \\\\ b\\end{pmatrix} = \\begin{pmatrix}a + b \\\\ a + b \\\\ a + b\\end{pmatrix} \\in L$. I.e., $L$ is closed under addition.\n",
    "$\\alpha \\in \\R, u \\in L : \\alpha u = \\alpha \\begin{pmatrix}a \\\\ a \\\\ a\\end{pmatrix} = \\begin{pmatrix}\\alpha a \\\\ \\alpha a \\\\ \\alpha a\\end{pmatrix}\\in L$. I.e., $L$ is closed under scalar multiplication. \n",
    "\n",
    "__Example__: Let $p = \\{\\begin{pmatrix}x \\\\ y \\\\ z\\end{pmatrix}\\in\\R^3 : x - y + 3z = 0\\} \\subseteq \\R^3$.\n",
    "\n",
    "> _Proof_: Let $u, v \\in p : u = \\begin{pmatrix}a \\\\ b \\\\ c\\end{pmatrix}, v = \\begin{pmatrix}d \\\\ e \\\\ f\\end{pmatrix}$. $\\begin{pmatrix}a \\\\ b \\\\ c\\end{pmatrix} + \\begin{pmatrix}d \\\\ e \\\\ f\\end{pmatrix} = \\begin{pmatrix}a + d \\\\ b + e \\\\ c + f\\end{pmatrix} \\in \\R^3$. Check $a + d - (b + e) + 3(c + f) = 0$. Indeed $a + d - (b + e) + 3(c + f) = 0 \\iff (a - b + 3c) + (d - e + 3f) = 0 + 0 = 0$. Therefore $u + v \\in p \\implies p$ is closed under addition. Let $\\alpha \\in R, u \\in p$. Then $\\alpha u = \\begin{pmatrix}\\alpha a \\\\ \\alpha b \\\\ \\alpha c\\end{pmatrix} = \\alpha a - \\alpha b + 3\\alpha c = 0 \\iff \\alpha (a - b + 3c) = \\alpha (0) = 0$. "
   ]
  }
 ],
 "metadata": {
  "language_info": {
   "name": "python"
  }
 },
 "nbformat": 4,
 "nbformat_minor": 2
}
