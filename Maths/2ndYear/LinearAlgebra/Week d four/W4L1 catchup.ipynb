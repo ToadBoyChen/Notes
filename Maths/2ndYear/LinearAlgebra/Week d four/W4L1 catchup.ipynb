{
 "cells": [
  {
   "cell_type": "markdown",
   "metadata": {},
   "source": [
    "# Week Four Catch up\n",
    "\n",
    "## Vector Spaces\n",
    "\n",
    "A __null space__ of $A$ is $N(A) = \\{x \\in \\R^n : Ax = 0\\}$. \n",
    "\n",
    "A theorem we can derive from this fact is,\n",
    "\n",
    "If $A \\in \\R^{m \\times n}$, then $N(A) \\subseteq \\R^n$. \n",
    "\n",
    "The __span__ is defined by: $v_1, \\dots, v_n \\in V$ for $V$ being a vector space. The set of all linear combinations of $v_1, \\dots, v_n$ is the $\\text{span}$ denoted by $\\text{span}(v_1, \\dots, v_n)$, that is $\\text{span}(v_1, \\dots, v_n) = \\{\\alpha_1 v_1 + \\dots + \\alpha_n v_n : \\alpha_1, \\dots, \\alpha_n \\in \\R\\}$.\n",
    "\n",
    "A sample space, say $H$, can be defined simply from $H = \\text{span}(v_1, v_2)$. It should be generalised that the span of all vectors in a vector space is a subspace of the vector space. \n",
    "\n",
    "The __spanning set__ is the span of a set of vectors, i.e., $A \\subseteq V : A = \\{v_1, \\dots, v_n\\} \\implies \\text{span}(A)$ is the spanning set. An example of a spanning set of $\\R^3$ maybe $\\{(1, 0, 0)^T, (0, 1, 0)^T, (0, 0, 1)^T, (1, 2, 4)^T\\}$.\n",
    "\n",
    "### Linear Independence \n",
    "\n",
    "This is the idea that a vector can be expressed as a linear combination of the other vectors in it. For example $\\text{span}(x_1, x_2, x_3) = \\text{span}(x_1, x_2) = \\text{span}(x_1, x_2) = \\text{span}(x_2, x_3)$. \n",
    "\n",
    "The vectors $v_1, \\dots, v_n \\in V$ are linearly dependent if $\\exists c_1, \\dots, c_n : c_1v_1 + \\dots + c_nv_n = 0$. \n",
    "\n",
    "Likewise, the vectors $v_1, \\dots, v_n \\in V$ are linearly independent if they are not __linearly dependent__, i.e., if $c_1v_1 + \\dots + c_nv_n = 0$, all scalars $c_1, \\dots, c_n$ are zero.\n",
    "\n",
    "_Example_: Take the vectors $\\begin{pmatrix}2\\\\1\\end{pmatrix}$ and $\\begin{pmatrix}1\\\\1\\end{pmatrix} \\in \\R^2$. These are linearly independent, thats to say that given the solution by\n",
    "\n",
    "$$\\begin{pmatrix}2c_1  &c_2  &0 \\\\ c_1 &c_2 &0\\end{pmatrix}.$$\n",
    "\n",
    "We can see that the only solution is to set $c_1 = c_2 = 0$. \n",
    "\n",
    "__Theorem__, Let $v_1, \\dots, v_n \\in V$. For $v \\in \\text{span}(v_1, \\dots, v_n)$ can be written as a unique linear combination of $v_1, \\dots, v_n \\iff v_1, \\dots, v_n$ are linearly independent.\n",
    "\n",
    "#### linear independence test\n",
    "\n",
    "To test whether $a_1, \\dots, a_n \\in \\R^m$ are linearly independent, \n",
    "\n",
    "1. Consider the matrix $A\\in\\R^{m \\times n}$ with columns $a_1, \\dots, a_n$,\n",
    "1. Construct the augmented matrix $(A | 0)$ which corresponds to the system $Ax = 0$,\n",
    "1. Bring $(A | 0)$ to __reduced echelon form__ using Gauss Jordan elimination and identify the leading and free variables.\n",
    "    1. If there are __no__ free variables then the vectors are __independent__.\n",
    "    1. If there __are__ free variables then the vectors are dependent.\n",
    "\n",
    "let $x_1, \\dots, x_n \\in \\R^n, X \\in \\R^{n \\times n}$, by the $j$-th column being $x_j$, for $1 \\le j \\le n$. Then $x_1, \\dots, x_n$ are linearly dependent $\\iff \\det(X) = 0$."
   ]
  }
 ],
 "metadata": {
  "language_info": {
   "name": "python"
  }
 },
 "nbformat": 4,
 "nbformat_minor": 2
}
