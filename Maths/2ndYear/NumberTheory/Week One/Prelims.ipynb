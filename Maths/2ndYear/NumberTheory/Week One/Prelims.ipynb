{
 "cells": [
  {
   "cell_type": "markdown",
   "metadata": {},
   "source": [
    "# Week One preliminary content\n",
    "\n",
    "The scope of this document will be the introduction to the course and some small revision pieces.\n",
    "\n",
    "## Introduction\n",
    "\n",
    "Number theory has its roots in _Diophantine equations_. Diophantine equations are equations which are polynomial, have rational coefficients, and should have a solution that is also rational.\n",
    "\n",
    "Number theory has a long history dating back to 1600BC, where the Babylonians were interested in $X^2 + Y^2 = 1$. \n",
    "\n",
    "Let us look at the following example as a demonstration for exciting results that we get from number theory. Consider the following equation, $$E: Y^2 + Y = X^3 - X^2.$$\n",
    "\n",
    "and Let $N_p$ denote the number of solutions to, $$Y^2 + Y \\equiv X^3 - X^2 \\mod p.$$\n",
    "\n",
    "Given that $p = 1$ is trivial, as one should recall that $a \\equiv b \\mod c \\iff c \\mid (a - b)$, which means that $Y^2 + Y \\equiv X^3 - X^2 \\mod 1 \\iff 1 \\mid (Y^2 + Y - X^3 + X^2)$. For any expression, $1$ divides it. We may consider the values,\n",
    "\n",
    "$$p: 2, 3, 5,7,11,13,17,19, \\dots \\\\ N_p : -2, -1, 1, -2, 1, 4, -2, 0, \\dots.$$\n",
    "\n",
    "We may also consider the infinite product involving $q$ such that,\n",
    "\n",
    "$$f = q\\prod_{n = 1}^{\\infty}(1-q^n)^2(1-q^{11n})^2.$$\n",
    "\n",
    "Which forms, as a binomial expansion $q - 2q^2 - q^3 + 2q^4 + q^5 + 2q^6 - 2q^7 + \\dots$\n",
    "\n",
    "The number of $p - N_p$ is the coefficient of the binomial expansion corresponding to the index given by $q$. This is related to the Shimura-Taniyama conjecture, which is now a theorem, which asserts that any equation of the form $Y^2 +aY=X^3+bX^2+cX+d$, where $a,b,c,d\\in\\mathbb{Q}$.\n",
    "\n",
    "## Revision\n",
    "\n"
   ]
  }
 ],
 "metadata": {
  "language_info": {
   "name": "python"
  }
 },
 "nbformat": 4,
 "nbformat_minor": 2
}
