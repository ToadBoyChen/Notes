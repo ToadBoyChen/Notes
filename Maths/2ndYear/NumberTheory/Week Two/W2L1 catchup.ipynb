{
 "cells": [
  {
   "cell_type": "markdown",
   "metadata": {},
   "source": [
    "# Week two Lecture One Catchup\n",
    "\n",
    "## Congruences and modular Arithmetic\n",
    "\n",
    "Let $n \\in \\N$. We say that $a, b \\in \\Z$ are congruent modulo $n$ if $n\\mid(a - b)$ or $a-b = k(n), k \\in \\N$, and we write $a \\equiv b \\mod n$, or $a \\equiv_n b$ or $a \\equiv b$.\n",
    "\n",
    "The congruence operation is in fact an equivalence relation; there are $n$ equivalence classes corresponding to $0, 1, \\dots, n - 1$, and are called congruence classes modulo $n$. We denote the classes by $[a]_n$, that is to say that $[a]_n = \\{z \\in \\Z : z \\equiv a \\mod n\\} = \\{\\dots, a - 2n, a - n, a, a + n, a + 2n, \\dots\\}$.\n",
    "\n",
    "By definition, any member of the congruence class $[a_n]$ can also represent the class, i.e., $a \\equiv b \\mod n$.\n",
    "\n",
    "Some helpful properties are that $[a]_n + [b]_n = [a + b]_n$, and that $[a]_n \\times [b]_n = [a \\times b]_n$.\n",
    "\n",
    "One should note that representatives shouldn't matter when dealing with these basic operations. $a \\equiv a' \\mod n' \\implies [a] + [b] = [a'] + [b']$? i.e., does it matter if we have say the equation $[2]_5 + [3]_5 = [7]_5 +  [8]_5$? No it doesn't.\n",
    "\n",
    "_Example_, here is the set $\\Z/4\\Z$:\n",
    "\n",
    "$$\\begin{align*}\n",
    "[0]_4 &= \\{\\dots, -12, -8, -4, 0, 4, 8, 12, \\dots\\}\\\\\n",
    "[1]_4 &= \\{\\dots,-11,-7,-3,1,5,9,13,\\dots\\}\\\\\n",
    "[2]_4 &= \\{\\dots,-10,-6,-2,2,6,10,14,\\dots\\}\\\\\n",
    "[3]_4 &= \\{\\dots,-9,-5,-1,3,7,11,15,\\dots\\}\\\\\n",
    "\\end{align*}$$\n",
    "\n",
    "We can also construct an addition table,\n",
    "\n",
    "$$\\begin{array}{c|cccc}\n",
    "+ & [0]_4 & [1]_4 & [2]_4 & [3]_4 \\\\\n",
    "\\hline\n",
    "[0]_4 & [0]_4 & [1]_4 & [2]_4 & [3]_4 \\\\\n",
    "[1]_4 & [1]_4 & [2]_4 & [3]_4 & [0]_4 \\\\\n",
    "[2]_4 & [2]_4 & [3]_4 & [0]_4 & [1]_4 \\\\\n",
    "[3]_4 & [3]_4 & [0]_4 & [1]_4 & [2]_4 \\\\\n",
    "\\end{array}$$\n",
    "\n",
    "And a multiplication table,\n",
    "\n",
    "$$\\begin{array}{c|cccc}\n",
    "\\times & [0]_4 & [1]_4 & [2]_4 & [3]_4 \\\\\n",
    "\\hline\n",
    "[0]_4 & [0]_4 & [0]_4 & [0]_4 & [0]_4 \\\\\n",
    "[1]_4 & [0]_4 & [1]_4 & [2]_4 & [3]_4 \\\\\n",
    "[2]_4 & [0]_4 & [2]_4 & [4]_4 & [2]_4 \\\\\n",
    "[3]_4 & [0]_4 & [3]_4 & [2]_4 & [0]_4 \\\\\n",
    "\\end{array}$$\n",
    "\n",
    "### Proposition\n",
    "\n",
    "If $p$ is a prime, then $\\mathbb{F}_p$ is a field."
   ]
  }
 ],
 "metadata": {
  "language_info": {
   "name": "python"
  }
 },
 "nbformat": 4,
 "nbformat_minor": 2
}
