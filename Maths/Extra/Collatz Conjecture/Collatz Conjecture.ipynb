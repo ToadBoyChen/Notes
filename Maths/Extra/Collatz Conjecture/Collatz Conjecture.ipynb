{
 "cells": [
  {
   "cell_type": "markdown",
   "metadata": {},
   "source": [
    "# Collatz Conjecture Research\n",
    "\n",
    "We are concerned with a problem within $\\mathbb{Z}$. "
   ]
  }
 ],
 "metadata": {
  "language_info": {
   "name": "python"
  }
 },
 "nbformat": 4,
 "nbformat_minor": 2
}
